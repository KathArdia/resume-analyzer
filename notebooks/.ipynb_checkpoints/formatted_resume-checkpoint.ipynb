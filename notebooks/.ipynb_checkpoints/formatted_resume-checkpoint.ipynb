{
 "cells": [
  {
   "cell_type": "code",
   "execution_count": 1,
   "id": "efe2dd78-0d22-480d-882e-0053adb15d4f",
   "metadata": {},
   "outputs": [
    {
     "name": "stdout",
     "output_type": "stream",
     "text": [
      "Исправленное резюме сохранено по пути: C:\\Users\\Athur\\resume-analyzer\\Форматированное_резюме.docx\n"
     ]
    }
   ],
   "source": [
    "from docx import Document\n",
    "from docx.enum.text import WD_ALIGN_PARAGRAPH\n",
    "from docx.shared import Pt\n",
    "\n",
    "def create_formatted_resume(corrected_text: str, output_file: str):\n",
    "    # Создаем новый документ\n",
    "    doc = Document()\n",
    "    \n",
    "    # Добавляем заголовок\n",
    "    title = doc.add_paragraph(\"Резюме\")\n",
    "    title.alignment = WD_ALIGN_PARAGRAPH.CENTER\n",
    "    title.style.font.size = Pt(16)\n",
    "    title.style.font.bold = True\n",
    "\n",
    "    # Разделяем текст по разделам\n",
    "    sections = corrected_text.split(\"\\n\\n\")  # Считаем двойной перенос строк границей разделов\n",
    "\n",
    "    for section in sections:\n",
    "        lines = section.split(\"\\n\")\n",
    "        if lines:\n",
    "            # Первый элемент считается заголовком секции\n",
    "            heading = doc.add_paragraph(lines[0])\n",
    "            heading.style.font.size = Pt(14)\n",
    "            heading.style.font.bold = True\n",
    "\n",
    "            # Остальные строки — основной текст\n",
    "            for line in lines[1:]:\n",
    "                para = doc.add_paragraph(line)\n",
    "                para.style.font.size = Pt(12)\n",
    "\n",
    "            # Добавляем отступ после каждой секции\n",
    "            doc.add_paragraph(\"\")\n",
    "\n",
    "    # Сохраняем документ\n",
    "    doc.save(output_file)\n",
    "    print(f\"Исправленное резюме сохранено по пути: {output_file}\")\n",
    "\n",
    "# Пример использования\n",
    "corrected_text = \"\"\"Контактная информация:\n",
    "Email: ivanovivan@mai.com\n",
    "Телефон: +7 912 345 67 89\n",
    "\n",
    "Навыки:\n",
    "Python, Pandas, Numpy, SQL, Tableau\n",
    "\n",
    "Опыт работы:\n",
    "Аналитик данных в компании \"Датасайнс\"\n",
    "Период работы: Январь 2020 — Сентябрь 2021\n",
    "Основные обязанности:\n",
    "Анализ данных, разработка визуализаций\n",
    "\n",
    "Образование:\n",
    "МГТУ им. Баумана, Прикладная математика и информатика, 2015–2019\"\"\"\n",
    "\n",
    "output_path = r\"C:\\Users\\Athur\\resume-analyzer\\Форматированное_резюме.docx\"\n",
    "create_formatted_resume(corrected_text, output_path)\n"
   ]
  },
  {
   "cell_type": "code",
   "execution_count": null,
   "id": "662c0a28-c635-4831-b7b0-bd34a29769d2",
   "metadata": {},
   "outputs": [],
   "source": []
  }
 ],
 "metadata": {
  "kernelspec": {
   "display_name": "Python 3 (ipykernel)",
   "language": "python",
   "name": "python3"
  },
  "language_info": {
   "codemirror_mode": {
    "name": "ipython",
    "version": 3
   },
   "file_extension": ".py",
   "mimetype": "text/x-python",
   "name": "python",
   "nbconvert_exporter": "python",
   "pygments_lexer": "ipython3",
   "version": "3.12.5"
  }
 },
 "nbformat": 4,
 "nbformat_minor": 5
}
